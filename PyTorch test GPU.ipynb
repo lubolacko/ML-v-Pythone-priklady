{
 "cells": [
  {
   "cell_type": "code",
   "execution_count": 1,
   "id": "69da542e",
   "metadata": {},
   "outputs": [
    {
     "name": "stdout",
     "output_type": "stream",
     "text": [
      "Hardvér: NVIDIA GeForce RTX 4080\n",
      "Násobenie matíc rozmeru 8192 ... počítam...\n",
      "0.09952306747436523  sekúnd\n",
      "Zariadenie: cuda:0\n"
     ]
    }
   ],
   "source": [
    "# Detekcia grafickej karty a príklad násobenia veľkých matíc\n",
    "# ----------------------------------------------------------\n",
    "import torch\n",
    "import time\n",
    "\n",
    "if torch.cuda.is_available():\n",
    "   device = torch.device(\"cuda\")\n",
    "   torch.cuda.current_device()\n",
    "   karta = torch.cuda.get_device_name()\n",
    "   print(\"Hardvér:\", karta)\n",
    "else:\n",
    "   device = torch.device(\"cpu\")\n",
    "   print(\"Hardvér: CPU\")\n",
    "\n",
    "rozmer = 8192 #násobok 32,  s GPU skúste rozmer 32768\n",
    "print(\"Násobenie matíc rozmeru\",rozmer, \"... počítam...\")\n",
    "    \n",
    "\n",
    "matica_1 = torch.randn(rozmer, rozmer)\n",
    "matica_2 = torch.randn(rozmer, rozmer)\n",
    "mat1_cuda = matica_1.to(device)\n",
    "mat2_cuda = matica_2.to(device)\n",
    "torch.cuda.synchronize()\n",
    "\n",
    "start = time.time() #čas spustenia\n",
    "vysledok_cuda = torch.matmul(mat1_cuda, mat2_cuda)\n",
    "torch.cuda.synchronize()\n",
    "print(time.time() - start, \" sekúnd\")  #doba trvania\n",
    "print(\"Zariadenie:\", vysledok_cuda.device)\n",
    "\n",
    "\n"
   ]
  },
  {
   "cell_type": "markdown",
   "id": "61f1ae59",
   "metadata": {},
   "source": []
  }
 ],
 "metadata": {
  "kernelspec": {
   "display_name": "Python 3 (ipykernel)",
   "language": "python",
   "name": "python3"
  },
  "language_info": {
   "codemirror_mode": {
    "name": "ipython",
    "version": 3
   },
   "file_extension": ".py",
   "mimetype": "text/x-python",
   "name": "python",
   "nbconvert_exporter": "python",
   "pygments_lexer": "ipython3",
   "version": "3.11.5"
  }
 },
 "nbformat": 4,
 "nbformat_minor": 5
}
