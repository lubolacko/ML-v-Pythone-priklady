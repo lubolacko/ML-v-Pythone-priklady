{
  "nbformat": 4,
  "nbformat_minor": 0,
  "metadata": {
    "colab": {
      "provenance": [],
      "authorship_tag": "ABX9TyM73IcdizRco1EsdnZ7t/Q+",
      "include_colab_link": true
    },
    "kernelspec": {
      "name": "python3",
      "display_name": "Python 3"
    },
    "language_info": {
      "name": "python"
    }
  },
  "cells": [
    {
      "cell_type": "markdown",
      "metadata": {
        "id": "view-in-github",
        "colab_type": "text"
      },
      "source": [
        "<a href=\"https://colab.research.google.com/github/lubolacko/ML-v-Pythone-priklady/blob/main/ML_v_pr%C3%ADkladoch_3.ipynb\" target=\"_parent\"><img src=\"https://colab.research.google.com/assets/colab-badge.svg\" alt=\"Open In Colab\"/></a>"
      ]
    },
    {
      "cell_type": "markdown",
      "source": [
        "# ML v príkladoch III\n",
        "\n",
        "Tenzory sú základným stavebným kameňom strojového učenia. Ich úlohou je reprezentovať údaje formou čísel. Sú to viacrozmerné vektory a sú flexibilné v tom, čo môže reprezentovať. Napríklad obrázok s rozlíšením 512 x 384 pixelov reprezentujeme ako tenzor tvaru [3, 384, 512], kde jednotlivé rozmery vektora reprezentujú atribúty [farba_RGB, výška, šírka], nakoľko na obrázku sú 3 farebné kanály RGB(červený, zelený, modrý). Obrázok sa transformuje na tenzorovú reprezentáciu tak, že pre každý bod sa určia tri farebné kanály a jeho súradnice v osi Y a X.\n",
        "\n",
        "Vektor je jednorozmerný tenzor, ktorý môže obsahovať viac čísel. Pre úplnosť máme aj tenzor nulového rozmeru, čiže skalár, alebo ľudovo povedané jedno číslo. Počet rozmerov, ktoré má tenzor v PyTorch, na prvý pohľad zistíte podľa počtu otváracích hranatých zátvoriek \"[\""
      ],
      "metadata": {
        "id": "H8nCxOYCFYGs"
      }
    },
    {
      "cell_type": "code",
      "execution_count": 1,
      "metadata": {
        "colab": {
          "base_uri": "https://localhost:8080/"
        },
        "id": "xq2ERdBZElDf",
        "outputId": "052f64c0-62e2-45cd-9183-217aa521771a"
      },
      "outputs": [
        {
          "output_type": "stream",
          "name": "stdout",
          "text": [
            "tensor([ 1,  3,  5,  7,  9, 11])\n",
            "rozmer tenzora 1\n"
          ]
        }
      ],
      "source": [
        "import torch\n",
        "vektor = torch.tensor([1, 3, 5, 7, 9, 11])\n",
        "print(vektor)\n",
        "print(\"rozmer tenzora\", vektor.ndim)\n"
      ]
    },
    {
      "cell_type": "markdown",
      "source": [
        "Ukážeme aj príklad vytvorenia trojrozmerného tenzora. Pripomíname, že počet rozmerov, ktoré má tenzor v PyTorch, zistíte podľa počtu otváracích hranatých zátvoriek, takže musia byť tri. Napríklad:"
      ],
      "metadata": {
        "id": "FwCKaCa6FpoS"
      }
    },
    {
      "cell_type": "code",
      "source": [
        "tenzor = torch.tensor([[[1, 2, 3],\n",
        "                        [4, 5, 6],\n",
        "                        [7, 8, 9]]])\n",
        "print(tenzor)\n",
        "print(\"rozmer tenzora\", tenzor.ndim)\n",
        "tenzor.shape\n"
      ],
      "metadata": {
        "colab": {
          "base_uri": "https://localhost:8080/"
        },
        "id": "IAPkwviMFtai",
        "outputId": "b140c5e8-ca62-4d81-ce23-29778825289d"
      },
      "execution_count": 2,
      "outputs": [
        {
          "output_type": "stream",
          "name": "stdout",
          "text": [
            "tensor([[[1, 2, 3],\n",
            "         [4, 5, 6],\n",
            "         [7, 8, 9]]])\n",
            "rozmer tenzora 3\n"
          ]
        },
        {
          "output_type": "execute_result",
          "data": {
            "text/plain": [
              "torch.Size([1, 3, 3])"
            ]
          },
          "metadata": {},
          "execution_count": 2
        }
      ]
    },
    {
      "cell_type": "markdown",
      "source": [
        "# Konverzia textu na tenzor\n",
        "Ak chceme trénovať, alebo dotrénovať neurónovú sieť na bloku textu, je potrebné text prekonvertovať na číselné hodnoty. V reálnych príkladoch by sme text načítali z textového, PDF, HTML, či iného súboru. My pre jednoduchosť použijeme textový reťazec\n"
      ],
      "metadata": {
        "id": "I5I2BOIkHCC1"
      }
    },
    {
      "cell_type": "code",
      "source": [
        "\n",
        "text = \"Ondrej Tráva gazda v Kameňanoch \\\n",
        "zavesil gazdovanie na klinec \\\n",
        "a oddal sa na špekuláciu \\\n",
        "Gazdovstvo viedol jeho syn \\\n",
        "a Ondrej sa zaoberal kupectvom\"\n",
        "print(text)"
      ],
      "metadata": {
        "colab": {
          "base_uri": "https://localhost:8080/"
        },
        "id": "KFDLSOEEHDK1",
        "outputId": "c4c42673-dd2a-4cdf-914c-4e03f4f11815"
      },
      "execution_count": 5,
      "outputs": [
        {
          "output_type": "stream",
          "name": "stdout",
          "text": [
            "Ondrej Tráva gazda v Kameňanoch zavesil gazdovanie na klinec a oddal sa na špekuláciu Gazdovstvo viedol jeho syn a Ondrej sa zaoberal kupectvom\n"
          ]
        }
      ]
    },
    {
      "cell_type": "markdown",
      "source": [
        "Následne je potrebné text vyčistiť, to znamená vynechať  nealfanumerické znaky a zoskupenia znakov. Na tento účel sa používa knižnica Natural Language Toolkit (ntlk), konkrétne funkciu word_tokenize(). Toto budeme riešiť v niektorej ďalšej časti, teraz sa zameriame na konverziu slov na čísla, preto budeme konverziu robiť na už vyčistenom texte. Po eliminovaní duplicitných slov získame toľko hodnôt, koľko je v texte unikátnych slov. V našom texte máme minimálne štyri duplicitné slová: Ondrej, sa, na, a. Funkcia set() poskytne zoznam unikátnych slov, čiže vytvoríme slovník."
      ],
      "metadata": {
        "id": "KolA_OpqOwKx"
      }
    },
    {
      "cell_type": "code",
      "source": [
        "import nltk\n",
        "nltk.download('punkt')\n",
        "from nltk.tokenize import word_tokenize\n",
        "slova = word_tokenize(text.lower())\n",
        "slovnik = set(slova)\n",
        "print (slovnik)\n"
      ],
      "metadata": {
        "colab": {
          "base_uri": "https://localhost:8080/"
        },
        "collapsed": true,
        "id": "fEQ6MSdNLqQ7",
        "outputId": "c7b717ad-3454-41cc-fc8b-0bc2d32b7971"
      },
      "execution_count": 10,
      "outputs": [
        {
          "output_type": "stream",
          "name": "stdout",
          "text": [
            "{'gazdovanie', 'kameňanoch', 'gazdovstvo', 'ondrej', 'kupectvom', 'zavesil', 'v', 'zaoberal', 'jeho', 'tráva', 'viedol', 'oddal', 'klinec', 'na', 'špekuláciu', 'gazda', 'sa', 'syn', 'a'}\n"
          ]
        },
        {
          "output_type": "stream",
          "name": "stderr",
          "text": [
            "[nltk_data] Downloading package punkt to /root/nltk_data...\n",
            "[nltk_data]   Package punkt is already up-to-date!\n"
          ]
        }
      ]
    },
    {
      "cell_type": "markdown",
      "source": [
        "Teraz potrebujeme slová, čiže textové reťazce na číselné hodnoty, pretože neurónové siete nepracujú s prirodzeným jazykom, ale s „jazykom matematiky“. To je zároveň aj odpoveď na prípadnú otázku, či záleží na tom v akom jazyku sú texty na trénovanie. Nezáleží, jedinou podmienkou je aby s jazyky nemiešali, napríklad slovenčina s češtinou. Pri trénovaní neurónovej siete nás zaujíma len to ako zvyknú slová, prípadne znaky po sebe nasledovať.  Pomocou funkcie enumerate() slová z našej dátovej množiny očíslujeme."
      ],
      "metadata": {
        "id": "wlxYyrTJO9Yk"
      }
    },
    {
      "cell_type": "code",
      "source": [
        "ix_slov = {slovo: i for i, slovo in enumerate(slovnik)}\n",
        "ix_slov\n"
      ],
      "metadata": {
        "colab": {
          "base_uri": "https://localhost:8080/"
        },
        "id": "aiQdbEu2O-zx",
        "outputId": "43c39122-5d5e-4109-f46d-2d288326acae"
      },
      "execution_count": 19,
      "outputs": [
        {
          "output_type": "execute_result",
          "data": {
            "text/plain": [
              "{'gazdovanie': 0,\n",
              " 'kameňanoch': 1,\n",
              " 'gazdovstvo': 2,\n",
              " 'ondrej': 3,\n",
              " 'kupectvom': 4,\n",
              " 'zavesil': 5,\n",
              " 'v': 6,\n",
              " 'zaoberal': 7,\n",
              " 'jeho': 8,\n",
              " 'tráva': 9,\n",
              " 'viedol': 10,\n",
              " 'oddal': 11,\n",
              " 'klinec': 12,\n",
              " 'na': 13,\n",
              " 'špekuláciu': 14,\n",
              " 'gazda': 15,\n",
              " 'sa': 16,\n",
              " 'syn': 17,\n",
              " 'a': 18}"
            ]
          },
          "metadata": {},
          "execution_count": 19
        }
      ]
    },
    {
      "cell_type": "markdown",
      "source": [
        "Teraz náš text reprezentovaný postupnosťou slov zmeníme na postupnosť čísel."
      ],
      "metadata": {
        "id": "vcVpbOdhP879"
      }
    },
    {
      "cell_type": "code",
      "source": [
        "zoznam_ix_slov = [ix_slov[slovo] for slovo in slova]\n",
        "zoznam_ix_slov[:10]\n"
      ],
      "metadata": {
        "colab": {
          "base_uri": "https://localhost:8080/"
        },
        "id": "IdMOAF-vQq7V",
        "outputId": "949de30e-b796-4b27-9188-a6129e1588bc"
      },
      "execution_count": 20,
      "outputs": [
        {
          "output_type": "execute_result",
          "data": {
            "text/plain": [
              "[3, 9, 15, 6, 1, 5, 0, 13, 12, 18]"
            ]
          },
          "metadata": {},
          "execution_count": 20
        }
      ]
    },
    {
      "cell_type": "markdown",
      "source": [
        "Kde 3 = Ondrej, 9 = tráva, 15 = gazda....  Index konkrétneho slova môžeme zistiť príkazom"
      ],
      "metadata": {
        "id": "7KVOStZyRNw3"
      }
    },
    {
      "cell_type": "code",
      "source": [
        "ix_slov['gazda']"
      ],
      "metadata": {
        "colab": {
          "base_uri": "https://localhost:8080/"
        },
        "id": "1ScZZY_CROVc",
        "outputId": "311a4c82-6af6-4eb7-e3eb-6fa91c812840"
      },
      "execution_count": 21,
      "outputs": [
        {
          "output_type": "execute_result",
          "data": {
            "text/plain": [
              "15"
            ]
          },
          "metadata": {},
          "execution_count": 21
        }
      ]
    },
    {
      "cell_type": "markdown",
      "source": [
        "Následne prekonvertujeme pole indexov slov, ktoré reprezentuje náš text na tenzor, ktorý môžeme ďalej použiť na trénovanie neurónovej siete"
      ],
      "metadata": {
        "id": "fI8S5GSUS6I3"
      }
    },
    {
      "cell_type": "code",
      "source": [
        "tenzor_slova = torch.tensor([zoznam_ix_slov], dtype=torch.long)\n",
        "tenzor_slova"
      ],
      "metadata": {
        "colab": {
          "base_uri": "https://localhost:8080/"
        },
        "id": "P0MHHGHTS61i",
        "outputId": "dc58f937-b657-43e4-f6da-9433ec60f54f"
      },
      "execution_count": 22,
      "outputs": [
        {
          "output_type": "execute_result",
          "data": {
            "text/plain": [
              "tensor([[ 3,  9, 15,  6,  1,  5,  0, 13, 12, 18, 11, 16, 13, 14,  2, 10,  8, 17,\n",
              "         18,  3, 16,  7,  4]])"
            ]
          },
          "metadata": {},
          "execution_count": 22
        }
      ]
    },
    {
      "cell_type": "markdown",
      "source": [
        "Pre text knihy Rivers of Babylon od Petra Pišťanka, ktorú sme  použili vo viacerých príkladoch trénovania neurónovej siete na našom webe je 90 374 slov, pričom slovník je tvorený 19 679 unikátnymi slovami.\n",
        "\n",
        "Môžeme použiť inú stratégiu a text na trénovanie neurónovej siete konvertovať na číselné hodnoty nie po slovách, ale po jednotlivých písmenách. Aj v tomto prípade vynecháme nealfanumerické znaky Pre náš text o gazdovi Ondrejovi:\n"
      ],
      "metadata": {
        "id": "RSSs67dWTM7B"
      }
    },
    {
      "cell_type": "code",
      "source": [
        "znaky = sorted(list(set(text)))\n",
        "unikatnych_znakov = len(znaky)\n",
        "print(''.join(znaky))\n",
        "print(unikatnych_znakov)"
      ],
      "metadata": {
        "colab": {
          "base_uri": "https://localhost:8080/"
        },
        "id": "0kmcN79uV_9W",
        "outputId": "03d4400c-b9ff-44ec-cd83-e269db24efbf"
      },
      "execution_count": 25,
      "outputs": [
        {
          "output_type": "stream",
          "name": "stdout",
          "text": [
            " GKOTabcdeghijklmnoprstuvyzáňš\n",
            "30\n"
          ]
        }
      ]
    },
    {
      "cell_type": "markdown",
      "source": [],
      "metadata": {
        "id": "stzeKoV6WXur"
      }
    },
    {
      "cell_type": "code",
      "source": [
        "# mapovanie znakov na indexy\n",
        "znaky_na_ix = { ch:i for i,ch in enumerate(znaky) }\n",
        "znaky_na_ix"
      ],
      "metadata": {
        "id": "raRCsenxXQ3d"
      },
      "execution_count": null,
      "outputs": []
    },
    {
      "cell_type": "markdown",
      "source": [
        "na zakódovanie textu na čísla a použijeme funkciu typu lambda."
      ],
      "metadata": {
        "id": "Ny3f-tbkYI5t"
      }
    },
    {
      "cell_type": "code",
      "source": [
        "text_na_cisla = lambda t: [znaky_na_ix[c] for c in t]\n",
        "print(text_na_cisla(text))"
      ],
      "metadata": {
        "colab": {
          "base_uri": "https://localhost:8080/"
        },
        "id": "a-cos6y4YKJ7",
        "outputId": "5e68b81f-869d-4590-c9bb-bac414a9edc1"
      },
      "execution_count": 32,
      "outputs": [
        {
          "output_type": "stream",
          "name": "stdout",
          "text": [
            "[3, 17, 8, 20, 9, 13, 0, 4, 20, 27, 24, 5, 0, 10, 5, 26, 8, 5, 0, 24, 0, 2, 5, 16, 9, 28, 5, 17, 18, 7, 11, 0, 26, 5, 24, 9, 21, 12, 15, 0, 10, 5, 26, 8, 18, 24, 5, 17, 12, 9, 0, 17, 5, 0, 14, 15, 12, 17, 9, 7, 0, 5, 0, 18, 8, 8, 5, 15, 0, 21, 5, 0, 17, 5, 0, 29, 19, 9, 14, 23, 15, 27, 7, 12, 23, 0, 1, 5, 26, 8, 18, 24, 21, 22, 24, 18, 0, 24, 12, 9, 8, 18, 15, 0, 13, 9, 11, 18, 0, 21, 25, 17, 0, 5, 0, 3, 17, 8, 20, 9, 13, 0, 21, 5, 0, 26, 5, 18, 6, 9, 20, 5, 15, 0, 14, 23, 19, 9, 7, 22, 24, 18, 16]\n"
          ]
        }
      ]
    },
    {
      "cell_type": "markdown",
      "source": [
        "Text pretransformovaný na čísla prekonvertujeme na tenzor knižnice torch."
      ],
      "metadata": {
        "id": "70qW89tbZYD0"
      }
    },
    {
      "cell_type": "code",
      "source": [
        "tenzory_textu = torch.tensor(text_na_cisla(text), dtype=torch.long)\n",
        "print(tenzory_textu.shape)\n",
        "tenzory_textu"
      ],
      "metadata": {
        "colab": {
          "base_uri": "https://localhost:8080/"
        },
        "id": "ZnP6hAlJZY2g",
        "outputId": "a45bae75-006a-4c12-fb05-1da5584c7078"
      },
      "execution_count": 33,
      "outputs": [
        {
          "output_type": "stream",
          "name": "stdout",
          "text": [
            "torch.Size([143])\n"
          ]
        },
        {
          "output_type": "execute_result",
          "data": {
            "text/plain": [
              "tensor([ 3, 17,  8, 20,  9, 13,  0,  4, 20, 27, 24,  5,  0, 10,  5, 26,  8,  5,\n",
              "         0, 24,  0,  2,  5, 16,  9, 28,  5, 17, 18,  7, 11,  0, 26,  5, 24,  9,\n",
              "        21, 12, 15,  0, 10,  5, 26,  8, 18, 24,  5, 17, 12,  9,  0, 17,  5,  0,\n",
              "        14, 15, 12, 17,  9,  7,  0,  5,  0, 18,  8,  8,  5, 15,  0, 21,  5,  0,\n",
              "        17,  5,  0, 29, 19,  9, 14, 23, 15, 27,  7, 12, 23,  0,  1,  5, 26,  8,\n",
              "        18, 24, 21, 22, 24, 18,  0, 24, 12,  9,  8, 18, 15,  0, 13,  9, 11, 18,\n",
              "         0, 21, 25, 17,  0,  5,  0,  3, 17,  8, 20,  9, 13,  0, 21,  5,  0, 26,\n",
              "         5, 18,  6,  9, 20,  5, 15,  0, 14, 23, 19,  9,  7, 22, 24, 18, 16])"
            ]
          },
          "metadata": {},
          "execution_count": 33
        }
      ]
    },
    {
      "cell_type": "markdown",
      "source": [
        "Vstupné údaje, v našom prípade text v podobe tenzora, samozrejme reálny, nie takýto krátky ako máme v príklade rozdelíme na trénovaciu a validačnú množinu a môžeme začať trénovať neurónovú sieť, prípadne dotrénovať už existujúcu neurónovú sieť. V príklade 90%  textu od začiatku budú trénovacie dáta. Pre kontrolu zistíme veľkosť každej množiny"
      ],
      "metadata": {
        "id": "2iYl_PJIa7jm"
      }
    },
    {
      "cell_type": "code",
      "source": [
        "# 90%  textu od začiatku budú trénovacie dáta\n",
        "n = int(0.9*len(tenzory_textu))\n",
        "tren_data = tenzory_textu[:n]\n",
        "test_data = tenzory_textu[n:]\n",
        "print(\"Trénovacia množina:\",tren_data.shape)\n",
        "print(\"Testovacia množina:\",test_data.shape)"
      ],
      "metadata": {
        "colab": {
          "base_uri": "https://localhost:8080/"
        },
        "id": "UDdg5b8uaKBQ",
        "outputId": "2552f05b-1420-4464-e0f9-c60168d198a3"
      },
      "execution_count": 34,
      "outputs": [
        {
          "output_type": "stream",
          "name": "stdout",
          "text": [
            "Trénovacia množina: torch.Size([128])\n",
            "Testovacia množina: torch.Size([15])\n"
          ]
        }
      ]
    },
    {
      "cell_type": "markdown",
      "source": [
        "V budúcom pokračovaní ukážeme ako naprogramovať model neurónovej siete pomocou funkcií knižnice PyTorch"
      ],
      "metadata": {
        "id": "x_5fHp7Oa-DU"
      }
    }
  ]
}